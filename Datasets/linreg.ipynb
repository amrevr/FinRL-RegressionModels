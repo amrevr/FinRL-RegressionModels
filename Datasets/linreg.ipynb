{
 "cells": [
  {
   "cell_type": "code",
   "execution_count": 23,
   "metadata": {},
   "outputs": [
    {
     "ename": "TypeError",
     "evalue": "can't multiply sequence by non-int of type 'list'",
     "output_type": "error",
     "traceback": [
      "\u001b[1;31m---------------------------------------------------------------------------\u001b[0m",
      "\u001b[1;31mTypeError\u001b[0m                                 Traceback (most recent call last)",
      "Cell \u001b[1;32mIn[23], line 34\u001b[0m\n\u001b[0;32m     31\u001b[0m \u001b[38;5;28;01mfor\u001b[39;00m val \u001b[38;5;129;01min\u001b[39;00m ds[\u001b[38;5;124m'\u001b[39m\u001b[38;5;124mClose\u001b[39m\u001b[38;5;124m'\u001b[39m]:\n\u001b[0;32m     32\u001b[0m     y\u001b[38;5;241m.\u001b[39mappend(val)\n\u001b[1;32m---> 34\u001b[0m a \u001b[38;5;241m=\u001b[39m \u001b[43mfindCoefficientA\u001b[49m\u001b[43m(\u001b[49m\u001b[43mx\u001b[49m\u001b[43m,\u001b[49m\u001b[43my\u001b[49m\u001b[43m)\u001b[49m\n\u001b[0;32m     35\u001b[0m b \u001b[38;5;241m=\u001b[39m findCoefficientB(x,y)\n\u001b[0;32m     36\u001b[0m ds[\u001b[38;5;124m'\u001b[39m\u001b[38;5;124mDate\u001b[39m\u001b[38;5;124m'\u001b[39m] \u001b[38;5;241m=\u001b[39m pd\u001b[38;5;241m.\u001b[39mto_datetime(ds[\u001b[38;5;124m'\u001b[39m\u001b[38;5;124mDate\u001b[39m\u001b[38;5;124m'\u001b[39m])\n",
      "Cell \u001b[1;32mIn[23], line 8\u001b[0m, in \u001b[0;36mfindCoefficientA\u001b[1;34m(x, y)\u001b[0m\n\u001b[0;32m      6\u001b[0m \u001b[38;5;28;01mdef\u001b[39;00m \u001b[38;5;21mfindCoefficientA\u001b[39m(x, y):\n\u001b[1;32m----> 8\u001b[0m     aNumerator \u001b[38;5;241m=\u001b[39m np\u001b[38;5;241m.\u001b[39msize(x)\u001b[38;5;241m*\u001b[39mnp\u001b[38;5;241m.\u001b[39msum(\u001b[43mx\u001b[49m\u001b[38;5;241;43m*\u001b[39;49m\u001b[43my\u001b[49m) \u001b[38;5;241m-\u001b[39m np\u001b[38;5;241m.\u001b[39msum(x)\u001b[38;5;241m*\u001b[39mnp\u001b[38;5;241m.\u001b[39msum(y)\n\u001b[0;32m      9\u001b[0m     denominator \u001b[38;5;241m=\u001b[39m np\u001b[38;5;241m.\u001b[39msize(x)\u001b[38;5;241m*\u001b[39mnp\u001b[38;5;241m.\u001b[39msum(x\u001b[38;5;241m*\u001b[39mx)\u001b[38;5;241m-\u001b[39m(np\u001b[38;5;241m.\u001b[39msum(x))\u001b[38;5;241m*\u001b[39mnp\u001b[38;5;241m.\u001b[39msum(x)\n\u001b[0;32m     11\u001b[0m     a \u001b[38;5;241m=\u001b[39m aNumerator\u001b[38;5;241m/\u001b[39mdenominator\n",
      "\u001b[1;31mTypeError\u001b[0m: can't multiply sequence by non-int of type 'list'"
     ]
    }
   ],
   "source": [
    "import csv\n",
    "import pandas as pd\n",
    "import matplotlib.pyplot as plt\n",
    "import numpy as np\n",
    "\n",
    "def findCoefficientA(x, y):\n",
    "\n",
    "    aNumerator = np.size(x)*np.sum(x*y) - np.sum(x)*np.sum(y)\n",
    "    denominator = np.size(x)*np.sum(x*x)-(np.sum(x))*np.sum(x)\n",
    "\n",
    "    a = aNumerator/denominator\n",
    "    return a\n",
    "\n",
    "def findCoefficientB(x, y):\n",
    "\n",
    "    bNumerator = np.sum(y)*np.sum(x*x) - np.sum(x)*np.sum(x*y)\n",
    "    denominator = np.size(x)*np.sum(x*x)-(np.sum(x))*np.sum(x)\n",
    "\n",
    "    b = bNumerator/denominator\n",
    "    return b\n",
    "\n",
    "ds = pd.read_csv(\"sandp500.csv\")\n",
    "\n",
    "x = []\n",
    "i = 0\n",
    "for val in ds['Date']:\n",
    "    x.append(i)\n",
    "    i=i+1\n",
    "\n",
    "y = []\n",
    "for val in ds['Close']:\n",
    "    y.append(val)\n",
    "\n",
    "a = findCoefficientA(x,y)\n",
    "b = findCoefficientB(x,y)\n",
    "ds['Date'] = pd.to_datetime(ds['Date'])\n",
    "ds = ds.sort_values(by = 'Date')\n",
    "plt.plot(ds['Date'], ds['Close'])\n",
    "\n",
    "plt.title(\"S&P 500 Graph\")\n",
    "plt.xlabel(\"Date\")\n",
    "plt.ylabel(\"Closing Price\")\n",
    "\n",
    "plt.show()\n",
    "\n",
    "\n"
   ]
  }
 ],
 "metadata": {
  "kernelspec": {
   "display_name": "Python 3",
   "language": "python",
   "name": "python3"
  },
  "language_info": {
   "codemirror_mode": {
    "name": "ipython",
    "version": 3
   },
   "file_extension": ".py",
   "mimetype": "text/x-python",
   "name": "python",
   "nbconvert_exporter": "python",
   "pygments_lexer": "ipython3",
   "version": "3.12.1"
  }
 },
 "nbformat": 4,
 "nbformat_minor": 2
}
